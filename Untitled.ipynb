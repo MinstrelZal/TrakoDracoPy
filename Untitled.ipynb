{
 "cells": [
  {
   "cell_type": "code",
   "execution_count": 1,
   "metadata": {},
   "outputs": [],
   "source": [
    "import DracoPy"
   ]
  },
  {
   "cell_type": "code",
   "execution_count": 2,
   "metadata": {},
   "outputs": [],
   "source": [
    "import tests"
   ]
  },
  {
   "cell_type": "code",
   "execution_count": 3,
   "metadata": {},
   "outputs": [],
   "source": [
    "tests.test_decoding_and_encoding_file()"
   ]
  },
  {
   "cell_type": "code",
   "execution_count": 4,
   "metadata": {},
   "outputs": [
    {
     "data": {
      "text/plain": [
       "b'DRACO\\x02\\x03\\x00\\x00\\x00\\x00\\x03\\x00\\x00\\x00\\x01\\x01\\x04\\t\\x01\\x00\\x00\\x00\\xa0\\x9ea\\x84oU\\x00\\x00\\xac\\x9ea\\x84'"
      ]
     },
     "execution_count": 4,
     "metadata": {},
     "output_type": "execute_result"
    }
   ],
   "source": [
    "DracoPy.encode_pointcloud_to_buffer([1,2,3])"
   ]
  },
  {
   "cell_type": "code",
   "execution_count": 5,
   "metadata": {},
   "outputs": [
    {
     "name": "stdout",
     "output_type": "stream",
     "text": [
      "number of points in original file: 104502\n",
      "number of faces in original file: 208353\n",
      "number of points in test file: 104502\n",
      "number of faces in test file: 208353\n"
     ]
    }
   ],
   "source": [
    "with open('bunny.drc', 'rb') as draco_file:\n",
    "  file_content = draco_file.read()\n",
    "  mesh_object = DracoPy.decode_buffer_to_mesh(file_content)\n",
    "  print('number of points in original file: {0}'.format(len(mesh_object.points)))\n",
    "  print('number of faces in original file: {0}'.format(len(mesh_object.faces)))\n",
    "  encoding_test = DracoPy.encode_mesh_to_buffer(mesh_object.points, mesh_object.faces)\n",
    "  with open('bunny_test.drc', 'wb') as test_file:\n",
    "    test_file.write(encoding_test)\n",
    "\n",
    "with open('bunny_test.drc', 'rb') as test_file:\n",
    "  file_content = test_file.read()\n",
    "  mesh_object = DracoPy.decode_buffer_to_mesh(file_content)\n",
    "  print('number of points in test file: {0}'.format(len(mesh_object.points)))\n",
    "  print('number of faces in test file: {0}'.format(len(mesh_object.faces)))\n"
   ]
  },
  {
   "cell_type": "code",
   "execution_count": 6,
   "metadata": {},
   "outputs": [],
   "source": [
    "a = DracoPy.encode_pointcloud_to_buffer(mesh_object.points[0:3])"
   ]
  },
  {
   "cell_type": "code",
   "execution_count": 7,
   "metadata": {},
   "outputs": [],
   "source": [
    "pointcloud = DracoPy.decode_buffer_to_point_cloud(a)"
   ]
  },
  {
   "cell_type": "code",
   "execution_count": 8,
   "metadata": {},
   "outputs": [
    {
     "name": "stdout",
     "output_type": "stream",
     "text": [
      "before [-0.033496879041194916, 0.033775072544813156, 0.008843667805194855]\n",
      "after [-2.5763817078088348e-36, 3.0647798713248074e-41, -2.576383860203276e-36]\n"
     ]
    }
   ],
   "source": [
    "print('before', mesh_object.points[0:3])\n",
    "print('after', pointcloud.points)\n"
   ]
  },
  {
   "cell_type": "code",
   "execution_count": 9,
   "metadata": {},
   "outputs": [
    {
     "data": {
      "text/plain": [
       "{'points': [-2.5763817078088348e-36,\n",
       "  3.0647798713248074e-41,\n",
       "  -2.576383860203276e-36],\n",
       " 'decode_status': 0}"
      ]
     },
     "execution_count": 9,
     "metadata": {},
     "output_type": "execute_result"
    }
   ],
   "source": [
    "pointcloud.pointcloud_struct"
   ]
  },
  {
   "cell_type": "code",
   "execution_count": null,
   "metadata": {},
   "outputs": [],
   "source": []
  }
 ],
 "metadata": {
  "kernelspec": {
   "display_name": "Python 3",
   "language": "python",
   "name": "python3"
  },
  "language_info": {
   "codemirror_mode": {
    "name": "ipython",
    "version": 3
   },
   "file_extension": ".py",
   "mimetype": "text/x-python",
   "name": "python",
   "nbconvert_exporter": "python",
   "pygments_lexer": "ipython3",
   "version": "3.7.1"
  }
 },
 "nbformat": 4,
 "nbformat_minor": 2
}
