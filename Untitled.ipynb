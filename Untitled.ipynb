{
 "cells": [
  {
   "cell_type": "code",
   "execution_count": 1,
   "metadata": {},
   "outputs": [],
   "source": [
    "import DracoPy"
   ]
  },
  {
   "cell_type": "code",
   "execution_count": 2,
   "metadata": {},
   "outputs": [
    {
     "name": "stdout",
     "output_type": "stream",
     "text": [
      "number of points in original file: 104502\n",
      "number of faces in original file: 208353\n",
      "number of points in test file: 104502\n",
      "number of faces in test file: 208353\n"
     ]
    }
   ],
   "source": [
    "with open('bunny_test.drc', 'rb') as draco_file:\n",
    "  file_content = draco_file.read()\n",
    "  mesh_object = DracoPy.decode_buffer_to_mesh(file_content)\n",
    "  print('number of points in original file: {0}'.format(len(mesh_object.points)))\n",
    "  print('number of faces in original file: {0}'.format(len(mesh_object.faces)))\n",
    "  encoding_test = DracoPy.encode_mesh_to_buffer(mesh_object.points, mesh_object.faces)\n",
    "  with open('bunny_test.drc', 'wb') as test_file:\n",
    "    test_file.write(encoding_test)\n",
    "\n",
    "with open('bunny_test.drc', 'rb') as test_file:\n",
    "  file_content = test_file.read()\n",
    "  mesh_object = DracoPy.decode_buffer_to_mesh(file_content)\n",
    "  print('number of points in test file: {0}'.format(len(mesh_object.points)))\n",
    "  print('number of faces in test file: {0}'.format(len(mesh_object.faces)))\n"
   ]
  },
  {
   "cell_type": "code",
   "execution_count": 3,
   "metadata": {},
   "outputs": [
    {
     "name": "stdout",
     "output_type": "stream",
     "text": [
      "before [0.0033538490533828735, 0.03465546295046806, 0.04081222414970398]\n",
      "after [0.0033538490533828735, 0.03465546295046806, 0.04081222414970398]\n"
     ]
    }
   ],
   "source": [
    "a = DracoPy.encode_point_cloud_to_buffer(mesh_object.points[0:3])\n",
    "pointcloud = DracoPy.decode_point_cloud_buffer(a)\n",
    "print('before', mesh_object.points[0:3])\n",
    "print('after', pointcloud.points)"
   ]
  },
  {
   "cell_type": "code",
   "execution_count": 5,
   "metadata": {},
   "outputs": [
    {
     "name": "stdout",
     "output_type": "stream",
     "text": [
      "before [0.0033538490533828735, 0.03465546295046806, 0.04081222414970398, -0.03453734144568443]\n",
      "after [0.0033559054136276245, 0.03465382382273674, 0.04081222787499428, -0.03453734144568443]\n"
     ]
    }
   ],
   "source": [
    "a = DracoPy.encode_point_cloud_to_buffer(mesh_object.points[0:4], position=False)\n",
    "pointcloud = DracoPy.decode_point_cloud_buffer(a)\n",
    "print('before', mesh_object.points[0:4])\n",
    "print('after', pointcloud.points)"
   ]
  },
  {
   "cell_type": "code",
   "execution_count": 6,
   "metadata": {},
   "outputs": [
    {
     "name": "stdout",
     "output_type": "stream",
     "text": [
      "before [0.0033538490533828735, 0.03465546295046806, 0.04081222414970398, -0.03453734144568443]\n",
      "after [0.0033538490533828735, 0.03465546295046806, 0.04081222414970398]\n"
     ]
    }
   ],
   "source": [
    "a = DracoPy.encode_point_cloud_to_buffer(mesh_object.points[0:4])\n",
    "pointcloud = DracoPy.decode_point_cloud_buffer(a)\n",
    "print('before', mesh_object.points[0:4])\n",
    "print('after', pointcloud.points)"
   ]
  },
  {
   "cell_type": "code",
   "execution_count": null,
   "metadata": {},
   "outputs": [],
   "source": []
  }
 ],
 "metadata": {
  "kernelspec": {
   "display_name": "Python 3",
   "language": "python",
   "name": "python3"
  },
  "language_info": {
   "codemirror_mode": {
    "name": "ipython",
    "version": 3
   },
   "file_extension": ".py",
   "mimetype": "text/x-python",
   "name": "python",
   "nbconvert_exporter": "python",
   "pygments_lexer": "ipython3",
   "version": "3.7.1"
  }
 },
 "nbformat": 4,
 "nbformat_minor": 2
}
