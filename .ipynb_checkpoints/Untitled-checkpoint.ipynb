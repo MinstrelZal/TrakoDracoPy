{
 "cells": [
  {
   "cell_type": "code",
   "execution_count": 10,
   "metadata": {},
   "outputs": [],
   "source": [
    "import DracoPy"
   ]
  },
  {
   "cell_type": "code",
   "execution_count": 12,
   "metadata": {},
   "outputs": [
    {
     "name": "stdout",
     "output_type": "stream",
     "text": [
      "number of points in original file: 104502\n",
      "number of faces in original file: 208353\n",
      "number of points in test file: 104502\n",
      "number of faces in test file: 208353\n"
     ]
    }
   ],
   "source": [
    "with open('bunny_test.drc', 'rb') as draco_file:\n",
    "  file_content = draco_file.read()\n",
    "  mesh_object = DracoPy.decode_buffer_to_mesh(file_content)\n",
    "  print('number of points in original file: {0}'.format(len(mesh_object.points)))\n",
    "  print('number of faces in original file: {0}'.format(len(mesh_object.faces)))\n",
    "  encoding_test = DracoPy.encode_mesh_to_buffer(mesh_object.points, mesh_object.faces)\n",
    "  with open('bunny_test.drc', 'wb') as test_file:\n",
    "    test_file.write(encoding_test)\n",
    "\n",
    "with open('bunny_test.drc', 'rb') as test_file:\n",
    "  file_content = test_file.read()\n",
    "  mesh_object = DracoPy.decode_buffer_to_mesh(file_content)\n",
    "  print('number of points in test file: {0}'.format(len(mesh_object.points)))\n",
    "  print('number of faces in test file: {0}'.format(len(mesh_object.faces)))\n"
   ]
  },
  {
   "cell_type": "code",
   "execution_count": 13,
   "metadata": {},
   "outputs": [],
   "source": [
    "a = DracoPy.encode_pointcloud_to_buffer(mesh_object.points[0:3])"
   ]
  },
  {
   "cell_type": "code",
   "execution_count": 14,
   "metadata": {},
   "outputs": [],
   "source": [
    "pointcloud = DracoPy.decode_buffer_to_point_cloud(a)"
   ]
  },
  {
   "cell_type": "code",
   "execution_count": 15,
   "metadata": {},
   "outputs": [
    {
     "name": "stdout",
     "output_type": "stream",
     "text": [
      "before [0.002530626952648163, 0.03949190676212311, 0.034535132348537445]\n",
      "after [-2.576370228371815e-36, 3.0647798713248074e-41, -2.5763723807662563e-36]\n"
     ]
    }
   ],
   "source": [
    "print('before', mesh_object.points[0:3])\n",
    "print('after', pointcloud.points)\n"
   ]
  },
  {
   "cell_type": "code",
   "execution_count": 16,
   "metadata": {},
   "outputs": [
    {
     "data": {
      "text/plain": [
       "{'points': [-2.576370228371815e-36,\n",
       "  3.0647798713248074e-41,\n",
       "  -2.5763723807662563e-36],\n",
       " 'decode_status': 0}"
      ]
     },
     "execution_count": 16,
     "metadata": {},
     "output_type": "execute_result"
    }
   ],
   "source": [
    "pointcloud.pointcloud_struct"
   ]
  },
  {
   "cell_type": "code",
   "execution_count": null,
   "metadata": {},
   "outputs": [],
   "source": []
  }
 ],
 "metadata": {
  "kernelspec": {
   "display_name": "Python 3",
   "language": "python",
   "name": "python3"
  },
  "language_info": {
   "codemirror_mode": {
    "name": "ipython",
    "version": 3
   },
   "file_extension": ".py",
   "mimetype": "text/x-python",
   "name": "python",
   "nbconvert_exporter": "python",
   "pygments_lexer": "ipython3",
   "version": "3.7.1"
  }
 },
 "nbformat": 4,
 "nbformat_minor": 2
}
