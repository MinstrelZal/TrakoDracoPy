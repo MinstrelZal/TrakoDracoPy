{
 "cells": [
  {
   "cell_type": "code",
   "execution_count": 1,
   "metadata": {},
   "outputs": [],
   "source": [
    "aaa = '''@barkhajava barkhajava / cs460student\n",
    "@BEPISMAN2 BEPISMAN2 / cs460student\n",
    "@cs460staff cs460staff / cs460student\n",
    "@cv14 cv14 / cs460student\n",
    "@dotcasek dotcasek / cs460student\n",
    "@fnovak02 fnovak02 / cs460student\n",
    "@genlikan genlikan / cs460student\n",
    "@haehn haehn / cs460student\n",
    "@hltdev8642 hltdev8642 / cs460student\n",
    "@jiehyunjkim jiehyunjkim / cs460student\n",
    "@kawuz1 kawuz1 / cs460student\n",
    "@kozarkar kozarkar / cs460student\n",
    "@lorifranke lorifranke / cs460student\n",
    "@miranjum miranjum / cs460student\n",
    "@Mushaddict Mushaddict / cs460student\n",
    "@nolan123456789 nolan123456789 / cs460student\n",
    "@PercyDeng PercyDeng / cs460student\n",
    "@rcaetani rcaetani / cs460student\n",
    "@rpan001 rpan001 / cs460student\n",
    "@ryanhdang ryanhdang / cs460student\n",
    "@S3AC0D3 S3AC0D3 / cs460student\n",
    "@savanna-shuhua savanna-shuhua / cs460student\n",
    "@skw1335 skw1335 / cs460student\n",
    "@Trancho123 Trancho123 / cs460student\n",
    "@YahtzeeRage YahtzeeRage / cs460student\n",
    "@zenitopires zenitopires / cs460student '''"
   ]
  },
  {
   "cell_type": "code",
   "execution_count": 6,
   "metadata": {},
   "outputs": [
    {
     "name": "stdout",
     "output_type": "stream",
     "text": [
      "git clone https://github.com/barkhajava/cs460student.git barkhajava\n",
      "git clone https://github.com/BEPISMAN2/cs460student.git BEPISMAN2\n",
      "git clone https://github.com/cs460staff/cs460student.git cs460staff\n",
      "git clone https://github.com/cv14/cs460student.git cv14\n",
      "git clone https://github.com/dotcasek/cs460student.git dotcasek\n",
      "git clone https://github.com/fnovak02/cs460student.git fnovak02\n",
      "git clone https://github.com/genlikan/cs460student.git genlikan\n",
      "git clone https://github.com/haehn/cs460student.git haehn\n",
      "git clone https://github.com/hltdev8642/cs460student.git hltdev8642\n",
      "git clone https://github.com/jiehyunjkim/cs460student.git jiehyunjkim\n",
      "git clone https://github.com/kawuz1/cs460student.git kawuz1\n",
      "git clone https://github.com/kozarkar/cs460student.git kozarkar\n",
      "git clone https://github.com/lorifranke/cs460student.git lorifranke\n",
      "git clone https://github.com/miranjum/cs460student.git miranjum\n",
      "git clone https://github.com/Mushaddict/cs460student.git Mushaddict\n",
      "git clone https://github.com/nolan123456789/cs460student.git nolan123456789\n",
      "git clone https://github.com/PercyDeng/cs460student.git PercyDeng\n",
      "git clone https://github.com/rcaetani/cs460student.git rcaetani\n",
      "git clone https://github.com/rpan001/cs460student.git rpan001\n",
      "git clone https://github.com/ryanhdang/cs460student.git ryanhdang\n",
      "git clone https://github.com/S3AC0D3/cs460student.git S3AC0D3\n",
      "git clone https://github.com/savanna-shuhua/cs460student.git savanna-shuhua\n",
      "git clone https://github.com/skw1335/cs460student.git skw1335\n",
      "git clone https://github.com/Trancho123/cs460student.git Trancho123\n",
      "git clone https://github.com/YahtzeeRage/cs460student.git YahtzeeRage\n",
      "git clone https://github.com/zenitopires/cs460student.git zenitopires\n"
     ]
    }
   ],
   "source": [
    "for a in aaa.split('\\n'):\n",
    "    username = a.split(' ')[0].replace('@','')\n",
    "    print (\"git clone https://github.com/\"+username+\"/cs460student.git \"+username)"
   ]
  },
  {
   "cell_type": "code",
   "execution_count": null,
   "metadata": {},
   "outputs": [],
   "source": []
  }
 ],
 "metadata": {
  "kernelspec": {
   "display_name": "Python 3",
   "language": "python",
   "name": "python3"
  },
  "language_info": {
   "codemirror_mode": {
    "name": "ipython",
    "version": 3
   },
   "file_extension": ".py",
   "mimetype": "text/x-python",
   "name": "python",
   "nbconvert_exporter": "python",
   "pygments_lexer": "ipython3",
   "version": "3.7.1"
  }
 },
 "nbformat": 4,
 "nbformat_minor": 2
}
